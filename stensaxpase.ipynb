{
 "cells": [
  {
   "cell_type": "code",
   "execution_count": 66,
   "metadata": {},
   "outputs": [],
   "source": [
    "import random\n",
    "import sys"
   ]
  },
  {
   "cell_type": "code",
   "execution_count": 67,
   "metadata": {},
   "outputs": [],
   "source": [
    "def nToS(num):\n",
    "    if num == 0:\n",
    "        return \"Sten\"\n",
    "    elif num == 1:\n",
    "        return \"Sax\"\n",
    "    elif num == 2:\n",
    "        return \"Påse\"\n",
    "    else:\n",
    "        return \"Potatis\" "
   ]
  },
  {
   "cell_type": "code",
   "execution_count": null,
   "metadata": {},
   "outputs": [
    {
     "name": "stdout",
     "output_type": "stream",
     "text": [
      "1.Sten 2.Sax 3.Påse 4.Exit\n",
      "2\n",
      "\u001b[Fplayer Sax comp Sax\n",
      "Ingen vinner\n",
      "1.Sten 2.Sax 3.Påse 4.Exit\n",
      "1\n",
      "\u001b[Fplayer Sten comp Påse\n",
      "Comp vann\n",
      "1.Sten 2.Sax 3.Påse 4.Exit\n"
     ]
    }
   ],
   "source": [
    "while (True):\n",
    "    print(\"1.Sten 2.Sax 3.Påse 4.Exit\")\n",
    "    player =  int(input())-1\n",
    "    sys.stdout.write(\"\\033[F\")\n",
    "    comp = random.randint(0,2)\n",
    "    print(\"Spelaren:\",nToS(player),\"Datorn:\",nToS(comp))\n",
    "    if player == 4:\n",
    "        break\n",
    "    elif player == comp:\n",
    "        print(\"Ingen vinner\")\n",
    "    elif player == 0 and comp == 2:\n",
    "        print(\"Comp vann\")\n",
    "    elif player == 1 and comp == 0:\n",
    "        print(\"Comp vann\")\n",
    "    elif player == 2 and comp == 1:\n",
    "        print(\"comp Vann\")\n",
    "    else:\n",
    "        print(\"Player vann\")"
   ]
  },
  {
   "cell_type": "code",
   "execution_count": null,
   "metadata": {},
   "outputs": [],
   "source": []
  },
  {
   "cell_type": "code",
   "execution_count": null,
   "metadata": {},
   "outputs": [],
   "source": []
  }
 ],
 "metadata": {
  "kernelspec": {
   "display_name": "Python 3",
   "language": "python",
   "name": "python3"
  },
  "language_info": {
   "codemirror_mode": {
    "name": "ipython",
    "version": 3
   },
   "file_extension": ".py",
   "mimetype": "text/x-python",
   "name": "python",
   "nbconvert_exporter": "python",
   "pygments_lexer": "ipython3",
   "version": "3.8.3"
  }
 },
 "nbformat": 4,
 "nbformat_minor": 4
}
