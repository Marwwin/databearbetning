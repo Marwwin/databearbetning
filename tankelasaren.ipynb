{
 "cells": [
  {
   "cell_type": "code",
   "execution_count": 1,
   "metadata": {},
   "outputs": [],
   "source": [
    "import random"
   ]
  },
  {
   "cell_type": "code",
   "execution_count": 7,
   "metadata": {},
   "outputs": [
    {
     "name": "stdout",
     "output_type": "stream",
     "text": [
      "Välj ett nummer 1-21:4\n",
      "För lågt\n",
      "Välj ett nummer 1-21:6\n",
      "För lågt\n",
      "Välj ett nummer 1-21:7\n",
      "För lågt\n",
      "Välj ett nummer 1-21:8\n",
      "För lågt\n",
      "Välj ett nummer 1-21:9\n",
      "För lågt\n",
      "Välj ett nummer 1-21:0\n",
      "För lågt\n",
      "Välj ett nummer 1-21:1\n",
      "För lågt\n",
      "Välj ett nummer 1-21:19\n",
      "Congratulatjoins!\n"
     ]
    }
   ],
   "source": [
    "comp = random.randint(1,21)\n",
    "player = 0\n",
    "while player != comp:\n",
    "    player = int(input(\"Välj ett nummer 1-21:\"))\n",
    "    if player < comp:\n",
    "        print(\"För lågt\")\n",
    "    elif player > comp:\n",
    "        print(\"För högt\")\n",
    "\n",
    "print(\"Congratulatjoins!\")"
   ]
  },
  {
   "cell_type": "code",
   "execution_count": null,
   "metadata": {},
   "outputs": [],
   "source": []
  },
  {
   "cell_type": "code",
   "execution_count": null,
   "metadata": {},
   "outputs": [],
   "source": []
  }
 ],
 "metadata": {
  "kernelspec": {
   "display_name": "Python 3",
   "language": "python",
   "name": "python3"
  },
  "language_info": {
   "codemirror_mode": {
    "name": "ipython",
    "version": 3
   },
   "file_extension": ".py",
   "mimetype": "text/x-python",
   "name": "python",
   "nbconvert_exporter": "python",
   "pygments_lexer": "ipython3",
   "version": "3.8.3"
  }
 },
 "nbformat": 4,
 "nbformat_minor": 4
}
