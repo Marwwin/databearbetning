{
 "cells": [
  {
   "cell_type": "code",
   "execution_count": 3,
   "metadata": {},
   "outputs": [],
   "source": [
    "def isPrime(n):\n",
    "    isP = True\n",
    "    if n == 2:\n",
    "        return True\n",
    "    else:\n",
    "        for i in range(n//2):\n",
    "            if n % (i+2) == 0:\n",
    "                isP = False\n",
    "            \n",
    "    return isP"
   ]
  },
  {
   "cell_type": "code",
   "execution_count": null,
   "metadata": {
    "scrolled": true
   },
   "outputs": [
    {
     "name": "stdout",
     "output_type": "stream",
     "text": [
      "Optimus Prime Demands A Number: 43112609\n",
      "Is it Prime? True\n",
      "Optimus Prime Demands A Number: 2147483647\n",
      "Is it Prime? True\n"
     ]
    }
   ],
   "source": [
    "while True:\n",
    "    num = int(input(\"Optimus Prime Demands A Number: \"))\n",
    "\n",
    "    print(\"Is it Prime?\",isPrime(num))"
   ]
  },
  {
   "cell_type": "code",
   "execution_count": null,
   "metadata": {},
   "outputs": [],
   "source": [
    "while (True):\n",
    "    print(\"1.Sten 2.Sax 3.Påse 4.Exit\")\n",
    "    player =  int(input())-1\n",
    "    sys.stdout.write(\"\\033[F\")\n",
    "    comp = random.randint(0,2)\n",
    "    print(\"Spelaren:\",nToS(player),\"Datorn:\",nToS(comp))\n",
    "    if player == 4:\n",
    "        break\n",
    "    elif player == comp:\n",
    "        print(\"Ingen vinner\")\n",
    "    elif player == 0 and comp == 2:\n",
    "        print(\"Comp vann\")\n",
    "    elif player == 1 and comp == 0:\n",
    "        print(\"Comp vann\")\n",
    "    elif player == 2 and comp == 1:\n",
    "        print(\"comp Vann\")\n",
    "    else:\n",
    "        print(\"Player vann\")"
   ]
  },
  {
   "cell_type": "code",
   "execution_count": null,
   "metadata": {},
   "outputs": [],
   "source": []
  },
  {
   "cell_type": "code",
   "execution_count": 16,
   "metadata": {},
   "outputs": [
    {
     "data": {
      "text/plain": [
       "5"
      ]
     },
     "execution_count": 16,
     "metadata": {},
     "output_type": "execute_result"
    }
   ],
   "source": [
    "5"
   ]
  },
  {
   "cell_type": "code",
   "execution_count": null,
   "metadata": {},
   "outputs": [],
   "source": []
  }
 ],
 "metadata": {
  "kernelspec": {
   "display_name": "Python 3",
   "language": "python",
   "name": "python3"
  },
  "language_info": {
   "codemirror_mode": {
    "name": "ipython",
    "version": 3
   },
   "file_extension": ".py",
   "mimetype": "text/x-python",
   "name": "python",
   "nbconvert_exporter": "python",
   "pygments_lexer": "ipython3",
   "version": "3.8.3"
  }
 },
 "nbformat": 4,
 "nbformat_minor": 4
}
