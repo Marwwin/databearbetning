{
 "cells": [
  {
   "cell_type": "code",
   "execution_count": 14,
   "metadata": {},
   "outputs": [
    {
     "name": "stdout",
     "output_type": "stream",
     "text": [
      "[6, 12, 18, 24, 30]\n"
     ]
    }
   ],
   "source": [
    "x = [1,2,3,4,5]\n",
    "z = list(map(lambda y : y * 6,x))\n",
    "print(z)"
   ]
  },
  {
   "cell_type": "code",
   "execution_count": 39,
   "metadata": {},
   "outputs": [
    {
     "name": "stdout",
     "output_type": "stream",
     "text": [
      "0 0\n",
      "1 2\n",
      "2 4\n",
      "3 6\n",
      "4 8\n",
      "5 10\n"
     ]
    }
   ],
   "source": [
    "for i,n in enumerate(range(0,11,2)):\n",
    "    print(i,n)"
   ]
  },
  {
   "cell_type": "code",
   "execution_count": 44,
   "metadata": {},
   "outputs": [],
   "source": [
    "class Bil:\n",
    "    __model = \"\"\n",
    "    __color = \"\"\n",
    "    __name = \"\"\n",
    "    \n",
    "    def __init__(self,model,color,name):\n",
    "        self.__model = model\n",
    "        self.__color = color\n",
    "        self.__name = name\n",
    "        \n",
    "    def toString(self):\n",
    "        return(\"Bilen är en\",self.__color,self.__model)\n"
   ]
  },
  {
   "cell_type": "code",
   "execution_count": 52,
   "metadata": {},
   "outputs": [
    {
     "name": "stdout",
     "output_type": "stream",
     "text": [
      "('Bilen är en', 'Svart', 'Ford')\n",
      "Svart\n"
     ]
    }
   ],
   "source": [
    "enbil = Bil(\"Ford\",\"Svart\",\"Bettan\")\n",
    "print(enbil.toString())\n",
    "print(enbil._Bil__color)"
   ]
  },
  {
   "cell_type": "code",
   "execution_count": null,
   "metadata": {},
   "outputs": [],
   "source": []
  }
 ],
 "metadata": {
  "kernelspec": {
   "display_name": "Python 3",
   "language": "python",
   "name": "python3"
  },
  "language_info": {
   "codemirror_mode": {
    "name": "ipython",
    "version": 3
   },
   "file_extension": ".py",
   "mimetype": "text/x-python",
   "name": "python",
   "nbconvert_exporter": "python",
   "pygments_lexer": "ipython3",
   "version": "3.8.3"
  }
 },
 "nbformat": 4,
 "nbformat_minor": 4
}
