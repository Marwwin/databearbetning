{
 "cells": [
  {
   "cell_type": "markdown",
   "metadata": {},
   "source": [
    "# Det här är min Game Machine!"
   ]
  },
  {
   "cell_type": "markdown",
   "metadata": {},
   "source": [
    "Vi börjar med att importera några moduler"
   ]
  },
  {
   "cell_type": "code",
   "execution_count": 12,
   "metadata": {},
   "outputs": [],
   "source": [
    "import random\n",
    "import getpass"
   ]
  },
  {
   "cell_type": "markdown",
   "metadata": {},
   "source": [
    "## Här är några viktiga universala funktioner"
   ]
  },
  {
   "cell_type": "code",
   "execution_count": 13,
   "metadata": {},
   "outputs": [],
   "source": [
    "def errormsg():\n",
    "    '''\n",
    "    Denhär funktionen skriver ut ett \"Felaktig input\" meddelande    \n",
    "        \n",
    "    '''\n",
    "    print(\"Felaktig input\")"
   ]
  },
  {
   "cell_type": "code",
   "execution_count": 14,
   "metadata": {},
   "outputs": [],
   "source": [
    "def replay():\n",
    "    '''\n",
    "    Denhär funktionen frågar användaren om de vill spela pånytt.\n",
    "    \n",
    "    Funktionen tar inga argument. Frågar användaren om den vill spela pånytt.\n",
    "    \n",
    "    Returnerar: strängen \"n\" eller \"y\"\n",
    "   '''\n",
    "    while True:\n",
    "        xy = input(\"Vill du spela pånytt? (y/n)\")\n",
    "        if xy == \"n\" or xy == \"y\":\n",
    "            break\n",
    "        else:\n",
    "            errormsg()\n",
    "    return xy"
   ]
  },
  {
   "cell_type": "markdown",
   "metadata": {},
   "source": [
    "### Det här är min optimus prime kod\n",
    "\n",
    "Koden består av två funktioner isPrime och optimusPrime. Som vi alla vet pratar Optimus Prime engelska :)\n",
    "\n",
    "Det skulle väl vara en övning i encapsulation men jag lär mig minnas att jag frågade på timmen om det är ok att jag bara har 2 funktioner, jag hade redan gjort färdigt uppgiften.\n",
    "\n",
    "Vi använder såklart try catch för att inte crasha vid fel input"
   ]
  },
  {
   "cell_type": "code",
   "execution_count": 15,
   "metadata": {},
   "outputs": [],
   "source": [
    "def isPrime(n):\n",
    "    '''\n",
    "    isPrime funktionen kollar om ett nummer är ett primtal\n",
    "    \n",
    "    Argument: Int\n",
    "    \n",
    "    Return: Boolean\n",
    "    \n",
    "    '''\n",
    "    if n == 1:\n",
    "        return False\n",
    "    elif n == 2:\n",
    "        return True\n",
    "    else:\n",
    "        for i in range(n//2): # Om vi går igenom alla som e mindre än n/2. \n",
    "            if n % (i+2) == 0: # i + 2 för att inga numrår går att dela med 0 och alla numrår går att dela med 1\n",
    "                return False\n",
    "            \n",
    "    return True"
   ]
  },
  {
   "cell_type": "code",
   "execution_count": 16,
   "metadata": {},
   "outputs": [],
   "source": [
    "def optimusPrime():\n",
    "    '''\n",
    "    Optimus Prime Demands A Number!\n",
    "    \n",
    "    I Will Tell You If Your Number Is Prime!\n",
    "    \n",
    "    '''\n",
    "    print(\"This is Optimus Prime\")\n",
    "    xy = \"y\"\n",
    "    while xy != \"n\":\n",
    "        try:    \n",
    "            num = int(input(\"Optimus Prime Demands A Number: \"))\n",
    "        except:\n",
    "            errormsg()\n",
    "        else:\n",
    "            print(\"Is\",num,\"Prime? Optimus Prime says:\",isPrime(num))\n",
    "            xy = replay()\n"
   ]
  },
  {
   "cell_type": "markdown",
   "metadata": {},
   "source": [
    "### Här är min Sten sax påse kod\n",
    "\n",
    "Sten sax å påse. En klassiker!! Input sanitation!!\n",
    "\n",
    "Vi använder random och getpass modulen"
   ]
  },
  {
   "cell_type": "code",
   "execution_count": 17,
   "metadata": {},
   "outputs": [],
   "source": [
    "def numToStr(num):\n",
    "    '''\n",
    "    Argument: tar emot värden 0-2 \n",
    "    \n",
    "    Return: Sten Sax eller Påse. \n",
    "    \n",
    "    Om man sätter in något annat än 0,1,2 (Detta borde int hända) så returnerar vi potatis.\n",
    "    '''\n",
    "    if num == 0:\n",
    "        return \"Sten\"\n",
    "    elif num == 1:\n",
    "        return \"Sax\"\n",
    "    elif num == 2:\n",
    "        return \"Påse\"\n",
    "    else:\n",
    "        return \"Potatis\" "
   ]
  },
  {
   "cell_type": "code",
   "execution_count": 18,
   "metadata": {},
   "outputs": [],
   "source": [
    "def ssp():\n",
    "    '''\n",
    "    Main funktion för sten sax å påse spelet \n",
    "    \n",
    "    Snurrar spelet, inga argument eller return.\n",
    "    '''\n",
    "    print(\"Hej välkommen att spela Sten Sax och Påse\")\n",
    "    xy = \"y\"\n",
    "    while xy != \"n\":\n",
    "        player = -1\n",
    "        \n",
    "        while player < 0 or player > 3:\n",
    "            print(\"1.Sten 2.Sax 3.Påse 4.Exit\")\n",
    "            try:\n",
    "                player = int(getpass.getpass())-1\n",
    "                if player <0 or player > 3:\n",
    "                    errormsg()\n",
    "            except:\n",
    "                errormsg()\n",
    "                \n",
    "        if player == 3:\n",
    "            break\n",
    "\n",
    "        comp = random.randint(0,2)\n",
    "        print(\"Spelaren:\",numToStr(player),\"Datorn:\",numToStr(comp))\n",
    "        \n",
    "        winner = \"Spelaren\"\n",
    "         \n",
    "            # Business logic \n",
    "            # Märk ändast 2 if satser!! \n",
    "        if player == comp:\n",
    "            winner = \"Ingen\"\n",
    "        elif player-comp==-2 or player-comp==1:\n",
    "            winner = \"Datorn\"\n",
    "                \n",
    "        print(winner, \"vann\")\n",
    "        xy = replay()\n",
    "            "
   ]
  },
  {
   "cell_type": "markdown",
   "metadata": {},
   "source": [
    "### Här är tankeläsaren kod\n",
    "\n",
    "Tankeläsaren väljer på random ett nummer mellan 1-20 och du skall gissa vilket det är.\n",
    "\n",
    "Vi använder random modulen\n",
    "\n",
    "try catch som vanligt."
   ]
  },
  {
   "cell_type": "code",
   "execution_count": 19,
   "metadata": {},
   "outputs": [],
   "source": [
    "def tankelasaren():\n",
    "    '''\n",
    "    Tankeläsar funktion snurrar hela spelet\n",
    "    Inga argument eller return\n",
    "    '''\n",
    "    print(\"Hej!! Detta är Tankeläsaren?\")\n",
    "    player = 0\n",
    "    hits = 0\n",
    "    xy = \"y\"\n",
    "    comp = random.randint(1,20)\n",
    "    while xy != \"n\":\n",
    "        \n",
    "        try:\n",
    "            player = input(\"Välj ett nummer 1-20 (\\\"exit\\\" stänger spelet):\")\n",
    "            if player == \"exit\":\n",
    "                break\n",
    "            else:\n",
    "                player = int(player)\n",
    "    \n",
    "            if player < 1 or player > 20:\n",
    "                print(\"Ojdå! Kan du inte läsa??\")\n",
    "                continue\n",
    "        except:\n",
    "            errormsg()\n",
    "        else:\n",
    "            hits += 1\n",
    "            if player < comp:\n",
    "                print(\"För lågt\")\n",
    "            elif player > comp:\n",
    "                print(\"För högt\")\n",
    "            else:\n",
    "                print(\"Congratulatjoins! Du gissade rätt. Det tog\",hits,\"försök\")\n",
    "                hits = 0\n",
    "                comp = random.randint(1,20)\n",
    "                xy = replay()"
   ]
  },
  {
   "cell_type": "markdown",
   "metadata": {},
   "source": [
    "## Här är min main kod\n",
    "\n",
    "Denna funktion snurrar våra spel."
   ]
  },
  {
   "cell_type": "code",
   "execution_count": 20,
   "metadata": {},
   "outputs": [
    {
     "name": "stdout",
     "output_type": "stream",
     "text": [
      "WOULD YOU LIKE TO PLAY A GAME\n",
      "1. Sten Sax Påse\n",
      "2. Tankeläsaren\n",
      "3. Optimus Prime\n",
      "4. Exit\n",
      "1\n",
      "Hej välkommen att spela Sten Sax och Påse\n",
      "1.Sten 2.Sax 3.Påse 4.Exit\n",
      "········\n",
      "Spelaren: Sten Datorn: Påse\n",
      "Datorn vann\n",
      "Vill du spela pånytt? (y/n)t\n",
      "Felaktig input\n",
      "Vill du spela pånytt? (y/n)y\n",
      "1.Sten 2.Sax 3.Påse 4.Exit\n",
      "········\n",
      "Felaktig input\n",
      "1.Sten 2.Sax 3.Påse 4.Exit\n",
      "········\n",
      "Felaktig input\n",
      "1.Sten 2.Sax 3.Påse 4.Exit\n",
      "········\n",
      "Spelaren: Sten Datorn: Sten\n",
      "Ingen vann\n",
      "Vill du spela pånytt? (y/n)n\n",
      "1. Sten Sax Påse\n",
      "2. Tankeläsaren\n",
      "3. Optimus Prime\n",
      "4. Exit\n",
      "2\n",
      "Hej!! Detta är Tankeläsaren?\n",
      "Välj ett nummer 1-20 (\"exit\" stänger spelet):1\n",
      "För lågt\n",
      "Välj ett nummer 1-20 (\"exit\" stänger spelet):5\n",
      "För lågt\n",
      "Välj ett nummer 1-20 (\"exit\" stänger spelet):10\n",
      "För lågt\n",
      "Välj ett nummer 1-20 (\"exit\" stänger spelet):15\n",
      "För lågt\n",
      "Välj ett nummer 1-20 (\"exit\" stänger spelet):19\n",
      "För högt\n",
      "Välj ett nummer 1-20 (\"exit\" stänger spelet):17\n",
      "Congratulatjoins! Du gissade rätt. Det tog 6 försök\n",
      "Vill du spela pånytt? (y/n)n\n",
      "1. Sten Sax Påse\n",
      "2. Tankeläsaren\n",
      "3. Optimus Prime\n",
      "4. Exit\n",
      "3\n",
      "This is Optimus Prime\n",
      "Optimus Prime Demands A Number: 7\n",
      "Is 7 Prime? Optimus Prime says: True\n",
      "Vill du spela pånytt? (y/n)n\n",
      "1. Sten Sax Påse\n",
      "2. Tankeläsaren\n",
      "3. Optimus Prime\n",
      "4. Exit\n",
      "4\n",
      "Hej Hej!\n"
     ]
    }
   ],
   "source": [
    "print(\"WOULD YOU LIKE TO PLAY A GAME\")\n",
    "'''\n",
    "Main Meny för the_game_machine\n",
    "'''\n",
    "meny = 0\n",
    "while meny != 4:\n",
    "    try:\n",
    "        meny = int(input(\"1. Sten Sax Påse\\n2. Tankeläsaren\\n3. Optimus Prime\\n4. Exit\\n\"))\n",
    "    except:\n",
    "        errormsg()\n",
    "    else:\n",
    "        if meny == 1:\n",
    "            ssp()\n",
    "        elif meny == 2:\n",
    "            tankelasaren()\n",
    "        elif meny == 3:\n",
    "            optimusPrime()\n",
    "        elif meny != 4:\n",
    "            errormsg()\n",
    "            \n",
    "print(\"Hej Hej!\")"
   ]
  },
  {
   "cell_type": "code",
   "execution_count": null,
   "metadata": {},
   "outputs": [],
   "source": []
  }
 ],
 "metadata": {
  "kernelspec": {
   "display_name": "Python 3",
   "language": "python",
   "name": "python3"
  },
  "language_info": {
   "codemirror_mode": {
    "name": "ipython",
    "version": 3
   },
   "file_extension": ".py",
   "mimetype": "text/x-python",
   "name": "python",
   "nbconvert_exporter": "python",
   "pygments_lexer": "ipython3",
   "version": "3.8.3"
  }
 },
 "nbformat": 4,
 "nbformat_minor": 4
}
