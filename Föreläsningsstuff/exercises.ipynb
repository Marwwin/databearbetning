{
 "cells": [
  {
   "cell_type": "markdown",
   "metadata": {},
   "source": [
    "# Exercises\n",
    "## Hello world\n",
    "\n",
    "Most introduction to programming sessions start with a Hello World example.\n",
    "\n",
    "The gray cell below is what is called a code-cell. You can execute it by clicking on it and pressing ctrl+enter. Alternately you can find the button that looks like the \"Play\"-symbol in the toolbar above."
   ]
  },
  {
   "cell_type": "code",
   "execution_count": 1,
   "metadata": {},
   "outputs": [
    {
     "name": "stdout",
     "output_type": "stream",
     "text": [
      "Hello World!\n"
     ]
    }
   ],
   "source": [
    "print(\"Hello World!\")"
   ]
  },
  {
   "cell_type": "markdown",
   "metadata": {},
   "source": [
    "## Communicating with the interpreter\n",
    "\n",
    "Try to execute some simple statements and expressions (one at a time) e.g\n",
    "```\n",
    "1**2\n",
    "1 / 2\n",
    "1 // 2\n",
    "5 + 5\n",
    "10 / 2 + 5\n",
    "my_tuple = (1, 2, 3)\n",
    "my_tuple[0] = 1\n",
    "2.3**4.5\n",
    "\n",
    "```\n",
    "Do you understand what is going on in all cases?"
   ]
  },
  {
   "cell_type": "markdown",
   "metadata": {},
   "source": [
    "power to\n",
    "division\n",
    "integer division\n",
    "addition\n",
    "divison before addition\n",
    "tuple\n",
    "first element of tuple\n",
    "float to power of float"
   ]
  },
  {
   "cell_type": "markdown",
   "metadata": {},
   "source": [
    "Most Python functions and objects can provide documentation via **help** function. Look the documentation of e.g the open function with ```help(open)```\n"
   ]
  },
  {
   "cell_type": "code",
   "execution_count": 1,
   "metadata": {},
   "outputs": [],
   "source": [
    "# yes"
   ]
  },
  {
   "cell_type": "markdown",
   "metadata": {},
   "source": [
    "Play with tabulator completion, by typing just ```pr``` and pressing then tabulator key. Pressing Shift-tab (after finalising completion) one sees also short documentation about the function or object. This works also on variable names, try e.g.\n",
    "```\n",
    "my_extremely_long_variable_name = 5\n",
    "my <TAB>\n",
    "```"
   ]
  },
  {
   "cell_type": "code",
   "execution_count": null,
   "metadata": {},
   "outputs": [],
   "source": [
    "print"
   ]
  },
  {
   "cell_type": "markdown",
   "metadata": {},
   "source": [
    "## Basic syntax\n",
    "Try to assign the value 6 to the following variable names\n",
    "````\n",
    "first-name\n",
    "family_name\n",
    "3PO\n",
    "____variable\n",
    "inb4tool8\n",
    "print\n",
    "in\n",
    "```\n",
    "\n",
    "Which of them are valid to assign to? \n",
    "\n",
    "Extra: why do you think the ones that cause an error are not valid? What's the reason?"
   ]
  },
  {
   "cell_type": "code",
   "execution_count": null,
   "metadata": {
    "scrolled": true
   },
   "outputs": [],
   "source": [
    "### first-name,in,3PO and print are not valid"
   ]
  },
  {
   "cell_type": "markdown",
   "metadata": {},
   "source": [
    "You probably noticed that even though ``print`` is a method in the namespace it was still valid to create a variable called ``print``. If you now try to actually print something, you will get an error. For built-in functions (such as print) one can recover with the following code"
   ]
  },
  {
   "cell_type": "code",
   "execution_count": 32,
   "metadata": {},
   "outputs": [
    {
     "name": "stdout",
     "output_type": "stream",
     "text": [
      "hello\n"
     ]
    }
   ],
   "source": [
    "print = __builtin__.print\n",
    "print(\"hello\")"
   ]
  },
  {
   "cell_type": "code",
   "execution_count": 5,
   "metadata": {},
   "outputs": [],
   "source": [
    "\n",
    "def test(a):\n",
    "    if a < 0:\n",
    "        print(\"negative number\")\n",
    "x = 11\n",
    "test(x)\n"
   ]
  },
  {
   "cell_type": "markdown",
   "metadata": {},
   "source": [
    "Are the following pieces valid Python code? If not, why?\n",
    "\n",
    "** Case 1 **\n",
    "```\n",
    "numbers = [4, 5, 6, 9, 11]\n",
    "sum = 0\n",
    "for n in numbers:\n",
    "    sum += n\n",
    "  print(\"Sum is now\"), sum\n",
    "```\n",
    "\n",
    "** Case 2 **\n",
    "```\n",
    "x = 11\n",
    "test(x)\n",
    "\n",
    "def test(a):\n",
    "    if a < 0:\n",
    "        print(\"negative number\")\n",
    "```"
   ]
  },
  {
   "cell_type": "code",
   "execution_count": null,
   "metadata": {},
   "outputs": [],
   "source": [
    "##both are invalid"
   ]
  },
  {
   "cell_type": "markdown",
   "metadata": {},
   "source": [
    "## Tuples and lists\n",
    "1. Create a tuple called ``mytuple``, with the following strings: \"sausage\", \"eggs\" and \"bacon\"\n",
    "2. check it's type using ``type()``\n",
    "3. Create than a list called ``mylist`` with the same contents. You use can the normal list definition syntax (``[]``) or coerce it from the tuple with the ``list()`` function."
   ]
  },
  {
   "cell_type": "code",
   "execution_count": 8,
   "metadata": {},
   "outputs": [
    {
     "name": "stdout",
     "output_type": "stream",
     "text": [
      "<class 'tuple'>\n",
      "<class 'list'>\n"
     ]
    }
   ],
   "source": [
    "mytuple = (\"sausage\",\"eggs\",\"bacon\")\n",
    "print(type(mytuple))\n",
    "mylist = [\"sausage\",\"eggs\",\"bacon\"]\n",
    "print(type(mylist))"
   ]
  },
  {
   "cell_type": "markdown",
   "metadata": {},
   "source": [
    "Attempt to append the string \"spam\" \n",
    "to ``mylist`` and ``mytuple`` using ``append``."
   ]
  },
  {
   "cell_type": "code",
   "execution_count": 11,
   "metadata": {},
   "outputs": [],
   "source": [
    "# mytuple.append(\"spam\") will not work\n",
    "mylist.append(\"spam\")"
   ]
  },
  {
   "cell_type": "markdown",
   "metadata": {},
   "source": [
    "List objects have a sort()\n",
    "function, use that for sorting the list alphabetically (e.g.\n",
    "mylist.sort() ). What is now the first item of the list?\n",
    "\n",
    "Next, remove the first item from the list, investigate the contents and remove then last item from the list."
   ]
  },
  {
   "cell_type": "code",
   "execution_count": 14,
   "metadata": {},
   "outputs": [
    {
     "name": "stdout",
     "output_type": "stream",
     "text": [
      "bacon\n",
      "['eggs', 'sausage', 'spam']\n"
     ]
    }
   ],
   "source": [
    "mylist.sort()\n",
    "print(mylist[0])\n",
    "mylist.pop(0)\n",
    "print(mylist)"
   ]
  },
  {
   "cell_type": "markdown",
   "metadata": {},
   "source": [
    "### Slicing\n",
    "\n",
    "Using ``range()`` create a list that has the numbers from 50 to 0 with a step of -2. Note that in Python 3 ``range()`` returns an *iterator* (we'll discuss iterators more later on), ``list(range(args))`` returns an actual list."
   ]
  },
  {
   "cell_type": "code",
   "execution_count": 16,
   "metadata": {},
   "outputs": [
    {
     "name": "stdout",
     "output_type": "stream",
     "text": [
      "[50, 48, 46, 44, 42, 40, 38, 36, 34, 32, 30, 28, 26, 24, 22, 20, 18, 16, 14, 12, 10, 8, 6, 4, 2]\n"
     ]
    }
   ],
   "source": [
    "theL = list(range(50,0,-2))\n",
    "print(theL)"
   ]
  },
  {
   "cell_type": "markdown",
   "metadata": {},
   "source": [
    "Using slicing syntax, select\n",
    "* the last 4 items from the list\n",
    "* the items from index 10 to index 13\n",
    "* the first 5 items from the list"
   ]
  },
  {
   "cell_type": "code",
   "execution_count": 29,
   "metadata": {},
   "outputs": [
    {
     "name": "stdout",
     "output_type": "stream",
     "text": [
      "[8, 6, 4, 2]\n",
      "[30, 28, 26, 24]\n",
      "[50, 48, 46, 44, 42, 40]\n"
     ]
    }
   ],
   "source": [
    "print(theL[-4:])\n",
    "print(theL[10:14])\n",
    "print(theL[0:6])\n"
   ]
  },
  {
   "cell_type": "markdown",
   "metadata": {},
   "source": [
    "Read up on the [stride syntax](https://en.wikipedia.org/wiki/Array_slicing#1991:_Python) . Then using it select \n",
    "* every third value in the list\n",
    "* the values with an odd-numbered index in the list"
   ]
  },
  {
   "cell_type": "code",
   "execution_count": 50,
   "metadata": {},
   "outputs": [
    {
     "name": "stdout",
     "output_type": "stream",
     "text": [
      "[50, 44, 38, 32, 26, 20, 14, 8, 2]\n",
      "[48, 44, 40, 36, 32, 28, 24, 20, 16, 12, 8, 4]\n"
     ]
    }
   ],
   "source": [
    "#print(theL[0:len(theL):3])\n",
    "print(theL[::3])\n",
    "#print(theL[1:len(theL):2])\n",
    "print(theL[1::2])"
   ]
  },
  {
   "cell_type": "markdown",
   "metadata": {},
   "source": [
    "### Multidimensional lists\n",
    "Create a two dimensional list of (x,y) value pairs, i.e.\n",
    "arbitrary long list whose elements are two element lists.\n",
    "\n",
    "Can you print only the y values?\n",
    "\n",
    "Are you able to use slicing for extracting only the y values? (Answer is no, but try it in any case)"
   ]
  },
  {
   "cell_type": "code",
   "execution_count": 34,
   "metadata": {},
   "outputs": [
    {
     "name": "stdout",
     "output_type": "stream",
     "text": [
      "[2, 4, 6, 8]\n"
     ]
    }
   ],
   "source": [
    "multil = [[1,2],[3,4],[5,6],[7,8]]\n",
    "\n",
    "print(list(map(lambda x: x[1], multil)))"
   ]
  },
  {
   "cell_type": "markdown",
   "metadata": {},
   "source": [
    "## Dictionaries\n",
    "Create a dictionary whose keys are the fruits “pineapple”, “strawberry”, and “banana”. As values use numbers\n",
    "representing e.g. prices. \n",
    "\n",
    "Add “orange” to the dictionary and then remove “banana” from the dictionary. Investigate the contents of dictionary and pay attention to the order of key-value pairs. \n",
    "\n",
    "Try creating another dictionary with the fruits \"apple\" and \"kiwi\" and use the dict.update() function to add the contents of your new dictionary to the first one."
   ]
  },
  {
   "cell_type": "code",
   "execution_count": 40,
   "metadata": {},
   "outputs": [
    {
     "name": "stdout",
     "output_type": "stream",
     "text": [
      "{'pineapple': 3, 'strawberry': 2, 'orange': 99}\n",
      "{'pineapple': 3, 'strawberry': 2, 'orange': 99, 'apple': 2, 'kiwi': 3}\n"
     ]
    }
   ],
   "source": [
    "fruits = {\"pineapple\": 3,\"strawberry\":2,\"banana\":1}\n",
    "fruits.update({\"orange\":99})\n",
    "fruits.pop(\"banana\")\n",
    "print(fruits)\n",
    "\n",
    "otherdict = {\"apple\":2,\"kiwi\":3}\n",
    "fruits.update(otherdict)\n",
    "print(fruits)"
   ]
  },
  {
   "cell_type": "markdown",
   "metadata": {},
   "source": [
    "# Bonus exercises\n",
    "Create a new “fruits” dictionary where the values are also\n",
    "dictionaries containing key-value pairs for color and weight,\n",
    "e.g. \n",
    "```\n",
    "fruits['apple'] = {'color':'green', 'weight': 120}\n",
    "```\n",
    "Change the color of *apple* from green to red"
   ]
  },
  {
   "cell_type": "code",
   "execution_count": 43,
   "metadata": {},
   "outputs": [
    {
     "name": "stdout",
     "output_type": "stream",
     "text": [
      "{'pineapple': {'color': 'brown', 'weight': 120}, 'strawberry': {'color': 'red', 'weight': 2}, 'banana': {'color': 'yellow', 'weight': 4}}\n",
      "{'pineapple': {'color': 'green', 'weight': 120}, 'strawberry': {'color': 'red', 'weight': 2}, 'banana': {'color': 'yellow', 'weight': 4}}\n"
     ]
    }
   ],
   "source": [
    "fruits = {\"pineapple\": {\"color\":\"brown\",\"weight\":120},\"strawberry\":{\"color\":\"red\",\"weight\":2},\"banana\":{\"color\":\"yellow\",\"weight\":4}}\n",
    "print(fruits)\n",
    "fruits[\"pineapple\"][\"color\"] = \"green\"\n",
    "print(fruits)"
   ]
  },
  {
   "cell_type": "markdown",
   "metadata": {},
   "source": [
    "It is often useful to create empty lists or dictionaries\n",
    "and add contents little by little.\n",
    "\n",
    "First, create an empty dictionary for the mid-term grades of students.\n",
    "Then, add a key-value pairs where the keys are student names and the values are empty lists. \n",
    "\n",
    "Finally, add values to the lists and investigate the contents of the\n",
    "dictionary."
   ]
  },
  {
   "cell_type": "code",
   "execution_count": 49,
   "metadata": {},
   "outputs": [
    {
     "name": "stdout",
     "output_type": "stream",
     "text": [
      "{'Markus': []}\n",
      "{'Markus': [4]}\n"
     ]
    }
   ],
   "source": [
    "grades = {}\n",
    "grades.update({\"Markus\":[]})\n",
    "print(grades)\n",
    "grades[\"Markus\"].append(5)\n",
    "print(grades)"
   ]
  }
 ],
 "metadata": {
  "kernelspec": {
   "display_name": "Python 3",
   "language": "python",
   "name": "python3"
  },
  "language_info": {
   "codemirror_mode": {
    "name": "ipython",
    "version": 3
   },
   "file_extension": ".py",
   "mimetype": "text/x-python",
   "name": "python",
   "nbconvert_exporter": "python",
   "pygments_lexer": "ipython3",
   "version": "3.8.3"
  }
 },
 "nbformat": 4,
 "nbformat_minor": 2
}
